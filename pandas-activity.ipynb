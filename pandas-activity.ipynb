{
 "cells": [
  {
   "cell_type": "markdown",
   "metadata": {
    "id": "nrxbKKJZtPzj"
   },
   "source": [
    "# **Activity 2: Python-Pandas Exercise**\n",
    "\n",
    "Objectives:\n",
    "- Understand Python syntax (variables, loops, functions).\n",
    "- Learn Pandas basics (Series, DataFrames, reading files).\n",
    "- Perform data cleaning (handling missing values, correcting formats, removing duplicates).\n",
    "- Apply concepts in a real-world case study."
   ]
  },
  {
   "cell_type": "markdown",
   "metadata": {
    "id": "FNQbxlCPtvXZ"
   },
   "source": [
    "# Part 1: Hands-on Python & Pandas Basics"
   ]
  },
  {
   "cell_type": "code",
   "execution_count": 2,
   "metadata": {},
   "outputs": [],
   "source": [
    "# Garcia"
   ]
  },
  {
   "cell_type": "markdown",
   "metadata": {
    "id": "vH2WqeaY38NC"
   },
   "source": [
    "1. Install the Pandas library in your environment."
   ]
  },
  {
   "cell_type": "code",
   "execution_count": 3,
   "metadata": {
    "id": "GPhWF_2u5Qxy"
   },
   "outputs": [
    {
     "name": "stdout",
     "output_type": "stream",
     "text": [
      "Defaulting to user installation because normal site-packages is not writeable\n",
      "Collecting pandas\n",
      "  Downloading pandas-2.2.3-cp310-cp310-win_amd64.whl.metadata (19 kB)\n",
      "Requirement already satisfied: numpy>=1.22.4 in c:\\users\\kahlil\\appdata\\roaming\\python\\python310\\site-packages (from pandas) (2.2.2)\n",
      "Requirement already satisfied: python-dateutil>=2.8.2 in c:\\users\\kahlil\\appdata\\roaming\\python\\python310\\site-packages (from pandas) (2.9.0.post0)\n",
      "Requirement already satisfied: pytz>=2020.1 in c:\\users\\kahlil\\appdata\\roaming\\python\\python310\\site-packages (from pandas) (2024.1)\n",
      "Requirement already satisfied: tzdata>=2022.7 in c:\\users\\kahlil\\appdata\\roaming\\python\\python310\\site-packages (from pandas) (2024.2)\n",
      "Requirement already satisfied: six>=1.5 in c:\\users\\kahlil\\appdata\\roaming\\python\\python310\\site-packages (from python-dateutil>=2.8.2->pandas) (1.16.0)\n",
      "Downloading pandas-2.2.3-cp310-cp310-win_amd64.whl (11.6 MB)\n",
      "   ---------------------------------------- 0.0/11.6 MB ? eta -:--:--\n",
      "   ------------ --------------------------- 3.7/11.6 MB 36.3 MB/s eta 0:00:01\n",
      "   ---------------------------------------- 11.6/11.6 MB 33.0 MB/s eta 0:00:00\n",
      "Installing collected packages: pandas\n",
      "Successfully installed pandas-2.2.3\n",
      "Note: you may need to restart the kernel to use updated packages.\n"
     ]
    },
    {
     "name": "stderr",
     "output_type": "stream",
     "text": [
      "\n",
      "[notice] A new release of pip is available: 25.0 -> 25.0.1\n",
      "[notice] To update, run: python.exe -m pip install --upgrade pip\n"
     ]
    }
   ],
   "source": [
    "pip install pandas"
   ]
  },
  {
   "cell_type": "markdown",
   "metadata": {
    "id": "dZC17Lf1zT3Q"
   },
   "source": [
    "2. Import the  pandas package under the name `pd`"
   ]
  },
  {
   "cell_type": "code",
   "execution_count": 4,
   "metadata": {
    "id": "lR6fv9XE3Pw3"
   },
   "outputs": [],
   "source": [
    "import pandas as pd"
   ]
  },
  {
   "cell_type": "markdown",
   "metadata": {
    "id": "hO_MlGtx3Wj5"
   },
   "source": [
    "3. Print the pandas version"
   ]
  },
  {
   "cell_type": "code",
   "execution_count": 5,
   "metadata": {
    "id": "Y4lcL4Nb3SrJ"
   },
   "outputs": [
    {
     "name": "stdout",
     "output_type": "stream",
     "text": [
      "2.2.3\n"
     ]
    }
   ],
   "source": [
    "print(pd.__version__)"
   ]
  },
  {
   "cell_type": "markdown",
   "metadata": {
    "id": "QWJFiRZ03pwH"
   },
   "source": [
    "4. Create a variable `x` with the value 10 and a string variable `y` with \"Fortes in Fide!\""
   ]
  },
  {
   "cell_type": "code",
   "execution_count": 6,
   "metadata": {
    "id": "QCkALKg_3vig"
   },
   "outputs": [],
   "source": [
    "x = 10\n",
    "y = \"Fortes in Fide\""
   ]
  },
  {
   "cell_type": "markdown",
   "metadata": {
    "id": "zBzRK3sY5Wfh"
   },
   "source": [
    "5. Define a list with numbers `[1, 2, 3, 4, 5]` and a dictionary with keys `name` and `age`"
   ]
  },
  {
   "cell_type": "code",
   "execution_count": 7,
   "metadata": {
    "id": "s8Zg7dgz5XPA"
   },
   "outputs": [],
   "source": [
    "numbers = [1, 2, 3, 4, 5]\n",
    "person = {'name', 'age'}"
   ]
  },
  {
   "cell_type": "markdown",
   "metadata": {
    "id": "gbsHcq7w5hE2"
   },
   "source": [
    "6. Write a function `greet(name)` that returns \"Magis, (name)\"!"
   ]
  },
  {
   "cell_type": "code",
   "execution_count": 8,
   "metadata": {
    "id": "LHKMev_a5mJX"
   },
   "outputs": [
    {
     "data": {
      "text/plain": [
       "'Magis, (name)!'"
      ]
     },
     "execution_count": 8,
     "metadata": {},
     "output_type": "execute_result"
    }
   ],
   "source": [
    "def greet(name):\n",
    "    return f\"Magis, {name}!\"\n",
    "\n",
    "greet(\"(name)\")"
   ]
  },
  {
   "cell_type": "markdown",
   "metadata": {
    "id": "d_UBbRZKYBFF"
   },
   "source": [
    "7. Write a Python function that takes a user’s name as input and prints a personalized greeting."
   ]
  },
  {
   "cell_type": "code",
   "execution_count": 9,
   "metadata": {},
   "outputs": [
    {
     "name": "stdout",
     "output_type": "stream",
     "text": [
      "Magis, Kahlil!\n"
     ]
    }
   ],
   "source": [
    "def greeting():\n",
    "    name = input(\"Enter your name: \")\n",
    "    print(f\"Magis, {name}!\")\n",
    "\n",
    "greeting()"
   ]
  },
  {
   "cell_type": "markdown",
   "metadata": {
    "id": "0GEjHQ-PYRj2"
   },
   "source": [
    "8. Modify **Number 7** that if the user does not enter a name, it defaults to \"Guest\"."
   ]
  },
  {
   "cell_type": "code",
   "execution_count": 10,
   "metadata": {
    "id": "rYfMyyQeYbf6"
   },
   "outputs": [
    {
     "name": "stdout",
     "output_type": "stream",
     "text": [
      "Magis, Guest!\n"
     ]
    }
   ],
   "source": [
    "def greeting():\n",
    "    name = input(\"Enter your name: \")\n",
    "    if not name:\n",
    "        name = \"Guest\"\n",
    "    print(f\"Magis, {name}!\")\n",
    "\n",
    "greeting()"
   ]
  },
  {
   "cell_type": "markdown",
   "metadata": {
    "id": "OG-Ubf3259sb"
   },
   "source": [
    "9. Create a Pandas Series from `[10, 20, 30, 40]`."
   ]
  },
  {
   "cell_type": "code",
   "execution_count": 11,
   "metadata": {
    "id": "oGThKfqQ5-sj"
   },
   "outputs": [
    {
     "name": "stdout",
     "output_type": "stream",
     "text": [
      "0    10\n",
      "1    20\n",
      "2    30\n",
      "3    40\n",
      "dtype: int64\n"
     ]
    }
   ],
   "source": [
    "series = pd.Series([10, 20, 30, 40])\n",
    "print(series)"
   ]
  },
  {
   "cell_type": "markdown",
   "metadata": {
    "id": "DeSr_ozS6Wc5"
   },
   "source": [
    "10.  Create a DataFrame with columns `A` and `B`."
   ]
  },
  {
   "cell_type": "code",
   "execution_count": 12,
   "metadata": {
    "id": "ytbYen7w6Mmv"
   },
   "outputs": [
    {
     "name": "stdout",
     "output_type": "stream",
     "text": [
      "     A    B\n",
      "0   69  420\n",
      "1  420   69\n"
     ]
    }
   ],
   "source": [
    "data = pd.DataFrame({'A': [69, 420], 'B': [420, 69]})\n",
    "print(data)"
   ]
  },
  {
   "cell_type": "markdown",
   "metadata": {
    "id": "7mAive8s7kfU"
   },
   "source": [
    "# Part 2: Working with a Dataset 🛥️"
   ]
  },
  {
   "cell_type": "markdown",
   "metadata": {
    "id": "u6daMs_F8SPx"
   },
   "source": [
    "1. Load the Titanic dataset from a local file and display the first five rows."
   ]
  },
  {
   "cell_type": "code",
   "execution_count": 13,
   "metadata": {
    "id": "zi-ufFmj9e4h"
   },
   "outputs": [
    {
     "name": "stdout",
     "output_type": "stream",
     "text": [
      "   PassengerId  Survived  Pclass  \\\n",
      "0          892         0       3   \n",
      "1          893         1       3   \n",
      "2          894         0       2   \n",
      "3          895         0       3   \n",
      "4          896         1       3   \n",
      "\n",
      "                                           Name     Sex   Age  SibSp  Parch  \\\n",
      "0                              Kelly, Mr. James    male  34.5      0      0   \n",
      "1              Wilkes, Mrs. James (Ellen Needs)  female  47.0      1      0   \n",
      "2                     Myles, Mr. Thomas Francis    male  62.0      0      0   \n",
      "3                              Wirz, Mr. Albert    male  27.0      0      0   \n",
      "4  Hirvonen, Mrs. Alexander (Helga E Lindqvist)  female  22.0      1      1   \n",
      "\n",
      "    Ticket     Fare Cabin Embarked  \n",
      "0   330911   7.8292   NaN        Q  \n",
      "1   363272   7.0000   NaN        S  \n",
      "2   240276   9.6875   NaN        Q  \n",
      "3   315154   8.6625   NaN        S  \n",
      "4  3101298  12.2875   NaN        S  \n"
     ]
    }
   ],
   "source": [
    "df = pd.read_csv('titanic_dataset.csv')\n",
    "\n",
    "print(df.head(5))"
   ]
  },
  {
   "cell_type": "markdown",
   "metadata": {
    "id": "405AKURC9sqB"
   },
   "source": [
    "2. Display the dataset's column names, data types."
   ]
  },
  {
   "cell_type": "code",
   "execution_count": 14,
   "metadata": {
    "id": "88-8AT8W9uaI"
   },
   "outputs": [
    {
     "name": "stdout",
     "output_type": "stream",
     "text": [
      "Index(['PassengerId', 'Survived', 'Pclass', 'Name', 'Sex', 'Age', 'SibSp',\n",
      "       'Parch', 'Ticket', 'Fare', 'Cabin', 'Embarked'],\n",
      "      dtype='object')\n",
      "PassengerId      int64\n",
      "Survived         int64\n",
      "Pclass           int64\n",
      "Name            object\n",
      "Sex             object\n",
      "Age            float64\n",
      "SibSp            int64\n",
      "Parch            int64\n",
      "Ticket          object\n",
      "Fare           float64\n",
      "Cabin           object\n",
      "Embarked        object\n",
      "dtype: object\n"
     ]
    }
   ],
   "source": [
    "print(df.columns)\n",
    "print(df.dtypes)"
   ]
  },
  {
   "cell_type": "markdown",
   "metadata": {
    "id": "Eh9FsKUx9-8S"
   },
   "source": [
    "3. Display the dataset's missing values."
   ]
  },
  {
   "cell_type": "code",
   "execution_count": 15,
   "metadata": {
    "id": "olw7wFVH9-rG"
   },
   "outputs": [
    {
     "name": "stdout",
     "output_type": "stream",
     "text": [
      "PassengerId      0\n",
      "Survived         0\n",
      "Pclass           0\n",
      "Name             0\n",
      "Sex              0\n",
      "Age             86\n",
      "SibSp            0\n",
      "Parch            0\n",
      "Ticket           0\n",
      "Fare             1\n",
      "Cabin          327\n",
      "Embarked         0\n",
      "dtype: int64\n"
     ]
    }
   ],
   "source": [
    "print(df.isnull().sum())"
   ]
  },
  {
   "cell_type": "markdown",
   "metadata": {
    "id": "lNAGBAXv-LXs"
   },
   "source": [
    "4. Display the `Name`, `Age`, and `Fare` columns from the dataset. (first 10)"
   ]
  },
  {
   "cell_type": "code",
   "execution_count": 16,
   "metadata": {
    "id": "LNRu6hI7-dUV"
   },
   "outputs": [
    {
     "name": "stdout",
     "output_type": "stream",
     "text": [
      "                                           Name   Age     Fare\n",
      "0                              Kelly, Mr. James  34.5   7.8292\n",
      "1              Wilkes, Mrs. James (Ellen Needs)  47.0   7.0000\n",
      "2                     Myles, Mr. Thomas Francis  62.0   9.6875\n",
      "3                              Wirz, Mr. Albert  27.0   8.6625\n",
      "4  Hirvonen, Mrs. Alexander (Helga E Lindqvist)  22.0  12.2875\n",
      "5                    Svensson, Mr. Johan Cervin  14.0   9.2250\n",
      "6                          Connolly, Miss. Kate  30.0   7.6292\n",
      "7                  Caldwell, Mr. Albert Francis  26.0  29.0000\n",
      "8     Abrahim, Mrs. Joseph (Sophie Halaut Easu)  18.0   7.2292\n",
      "9                       Davies, Mr. John Samuel  21.0  24.1500\n"
     ]
    }
   ],
   "source": [
    "print(df[['Name', 'Age', 'Fare']].head(10))"
   ]
  },
  {
   "cell_type": "markdown",
   "metadata": {
    "id": "z2iFTTa2-nAv"
   },
   "source": [
    " 5. Print the descriptive statistics of the Titanic dataset."
   ]
  },
  {
   "cell_type": "code",
   "execution_count": 17,
   "metadata": {
    "id": "VvurbDoL-xJE"
   },
   "outputs": [
    {
     "name": "stdout",
     "output_type": "stream",
     "text": [
      "       PassengerId    Survived      Pclass         Age       SibSp  \\\n",
      "count   418.000000  418.000000  418.000000  332.000000  418.000000   \n",
      "mean   1100.500000    0.363636    2.265550   30.272590    0.447368   \n",
      "std     120.810458    0.481622    0.841838   14.181209    0.896760   \n",
      "min     892.000000    0.000000    1.000000    0.170000    0.000000   \n",
      "25%     996.250000    0.000000    1.000000   21.000000    0.000000   \n",
      "50%    1100.500000    0.000000    3.000000   27.000000    0.000000   \n",
      "75%    1204.750000    1.000000    3.000000   39.000000    1.000000   \n",
      "max    1309.000000    1.000000    3.000000   76.000000    8.000000   \n",
      "\n",
      "            Parch        Fare  \n",
      "count  418.000000  417.000000  \n",
      "mean     0.392344   35.627188  \n",
      "std      0.981429   55.907576  \n",
      "min      0.000000    0.000000  \n",
      "25%      0.000000    7.895800  \n",
      "50%      0.000000   14.454200  \n",
      "75%      0.000000   31.500000  \n",
      "max      9.000000  512.329200  \n"
     ]
    }
   ],
   "source": [
    "print(df.describe())"
   ]
  },
  {
   "cell_type": "markdown",
   "metadata": {
    "id": "U95dijMI-9x1"
   },
   "source": [
    "6. Remove rows with missing values in the `Age` column."
   ]
  },
  {
   "cell_type": "code",
   "execution_count": 18,
   "metadata": {
    "id": "mMKNND-E_jnL"
   },
   "outputs": [
    {
     "name": "stdout",
     "output_type": "stream",
     "text": [
      "     PassengerId  Survived  Pclass  \\\n",
      "0            892         0       3   \n",
      "1            893         1       3   \n",
      "2            894         0       2   \n",
      "3            895         0       3   \n",
      "4            896         1       3   \n",
      "..           ...       ...     ...   \n",
      "409         1301         1       3   \n",
      "411         1303         1       1   \n",
      "412         1304         1       3   \n",
      "414         1306         1       1   \n",
      "415         1307         0       3   \n",
      "\n",
      "                                                Name     Sex   Age  SibSp  \\\n",
      "0                                   Kelly, Mr. James    male  34.5      0   \n",
      "1                   Wilkes, Mrs. James (Ellen Needs)  female  47.0      1   \n",
      "2                          Myles, Mr. Thomas Francis    male  62.0      0   \n",
      "3                                   Wirz, Mr. Albert    male  27.0      0   \n",
      "4       Hirvonen, Mrs. Alexander (Helga E Lindqvist)  female  22.0      1   \n",
      "..                                               ...     ...   ...    ...   \n",
      "409                        Peacock, Miss. Treasteall  female   3.0      1   \n",
      "411  Minahan, Mrs. William Edward (Lillian E Thorpe)  female  37.0      1   \n",
      "412                   Henriksson, Miss. Jenny Lovisa  female  28.0      0   \n",
      "414                     Oliva y Ocana, Dona. Fermina  female  39.0      0   \n",
      "415                     Saether, Mr. Simon Sivertsen    male  38.5      0   \n",
      "\n",
      "     Parch              Ticket      Fare Cabin Embarked  \n",
      "0        0              330911    7.8292   NaN        Q  \n",
      "1        0              363272    7.0000   NaN        S  \n",
      "2        0              240276    9.6875   NaN        Q  \n",
      "3        0              315154    8.6625   NaN        S  \n",
      "4        1             3101298   12.2875   NaN        S  \n",
      "..     ...                 ...       ...   ...      ...  \n",
      "409      1  SOTON/O.Q. 3101315   13.7750   NaN        S  \n",
      "411      0               19928   90.0000   C78        Q  \n",
      "412      0              347086    7.7750   NaN        S  \n",
      "414      0            PC 17758  108.9000  C105        C  \n",
      "415      0  SOTON/O.Q. 3101262    7.2500   NaN        S  \n",
      "\n",
      "[332 rows x 12 columns]\n"
     ]
    }
   ],
   "source": [
    "df_rmv_missing_age = df.dropna(subset=['Age'])\n",
    "print(df_rmv_missing_age)"
   ]
  },
  {
   "cell_type": "markdown",
   "metadata": {
    "id": "U-2X_e-fFHI5"
   },
   "source": [
    "7. Remove duplicate rows from the dataset."
   ]
  },
  {
   "cell_type": "code",
   "execution_count": 19,
   "metadata": {
    "id": "l2X-ym9eFIT-"
   },
   "outputs": [
    {
     "name": "stdout",
     "output_type": "stream",
     "text": [
      "     PassengerId  Survived  Pclass  \\\n",
      "0            892         0       3   \n",
      "1            893         1       3   \n",
      "2            894         0       2   \n",
      "3            895         0       3   \n",
      "4            896         1       3   \n",
      "..           ...       ...     ...   \n",
      "413         1305         0       3   \n",
      "414         1306         1       1   \n",
      "415         1307         0       3   \n",
      "416         1308         0       3   \n",
      "417         1309         0       3   \n",
      "\n",
      "                                             Name     Sex   Age  SibSp  Parch  \\\n",
      "0                                Kelly, Mr. James    male  34.5      0      0   \n",
      "1                Wilkes, Mrs. James (Ellen Needs)  female  47.0      1      0   \n",
      "2                       Myles, Mr. Thomas Francis    male  62.0      0      0   \n",
      "3                                Wirz, Mr. Albert    male  27.0      0      0   \n",
      "4    Hirvonen, Mrs. Alexander (Helga E Lindqvist)  female  22.0      1      1   \n",
      "..                                            ...     ...   ...    ...    ...   \n",
      "413                            Spector, Mr. Woolf    male   NaN      0      0   \n",
      "414                  Oliva y Ocana, Dona. Fermina  female  39.0      0      0   \n",
      "415                  Saether, Mr. Simon Sivertsen    male  38.5      0      0   \n",
      "416                           Ware, Mr. Frederick    male   NaN      0      0   \n",
      "417                      Peter, Master. Michael J    male   NaN      1      1   \n",
      "\n",
      "                 Ticket      Fare Cabin Embarked  \n",
      "0                330911    7.8292   NaN        Q  \n",
      "1                363272    7.0000   NaN        S  \n",
      "2                240276    9.6875   NaN        Q  \n",
      "3                315154    8.6625   NaN        S  \n",
      "4               3101298   12.2875   NaN        S  \n",
      "..                  ...       ...   ...      ...  \n",
      "413           A.5. 3236    8.0500   NaN        S  \n",
      "414            PC 17758  108.9000  C105        C  \n",
      "415  SOTON/O.Q. 3101262    7.2500   NaN        S  \n",
      "416              359309    8.0500   NaN        S  \n",
      "417                2668   22.3583   NaN        C  \n",
      "\n",
      "[418 rows x 12 columns]\n"
     ]
    }
   ],
   "source": [
    "df_duple_rows = df.drop_duplicates()\n",
    "\n",
    "print(df_duple_rows)"
   ]
  },
  {
   "cell_type": "markdown",
   "metadata": {
    "id": "b-SvrKnKFL1m"
   },
   "source": [
    "8. Compute and display the correlation matrix of the dataset."
   ]
  },
  {
   "cell_type": "code",
   "execution_count": 20,
   "metadata": {},
   "outputs": [
    {
     "ename": "ValueError",
     "evalue": "could not convert string to float: 'Kelly, Mr. James'",
     "output_type": "error",
     "traceback": [
      "\u001b[1;31m---------------------------------------------------------------------------\u001b[0m",
      "\u001b[1;31mValueError\u001b[0m                                Traceback (most recent call last)",
      "Cell \u001b[1;32mIn[20], line 1\u001b[0m\n\u001b[1;32m----> 1\u001b[0m matrix \u001b[38;5;241m=\u001b[39m \u001b[43mdf\u001b[49m\u001b[38;5;241;43m.\u001b[39;49m\u001b[43mcorr\u001b[49m\u001b[43m(\u001b[49m\u001b[43m)\u001b[49m\n\u001b[0;32m      2\u001b[0m \u001b[38;5;28mprint\u001b[39m(matrix)\n\u001b[0;32m      4\u001b[0m \u001b[38;5;66;03m# Because there is a string value instead of a float.\u001b[39;00m\n",
      "File \u001b[1;32m~\\AppData\\Roaming\\Python\\Python310\\site-packages\\pandas\\core\\frame.py:11049\u001b[0m, in \u001b[0;36mDataFrame.corr\u001b[1;34m(self, method, min_periods, numeric_only)\u001b[0m\n\u001b[0;32m  11047\u001b[0m cols \u001b[38;5;241m=\u001b[39m data\u001b[38;5;241m.\u001b[39mcolumns\n\u001b[0;32m  11048\u001b[0m idx \u001b[38;5;241m=\u001b[39m cols\u001b[38;5;241m.\u001b[39mcopy()\n\u001b[1;32m> 11049\u001b[0m mat \u001b[38;5;241m=\u001b[39m \u001b[43mdata\u001b[49m\u001b[38;5;241;43m.\u001b[39;49m\u001b[43mto_numpy\u001b[49m\u001b[43m(\u001b[49m\u001b[43mdtype\u001b[49m\u001b[38;5;241;43m=\u001b[39;49m\u001b[38;5;28;43mfloat\u001b[39;49m\u001b[43m,\u001b[49m\u001b[43m \u001b[49m\u001b[43mna_value\u001b[49m\u001b[38;5;241;43m=\u001b[39;49m\u001b[43mnp\u001b[49m\u001b[38;5;241;43m.\u001b[39;49m\u001b[43mnan\u001b[49m\u001b[43m,\u001b[49m\u001b[43m \u001b[49m\u001b[43mcopy\u001b[49m\u001b[38;5;241;43m=\u001b[39;49m\u001b[38;5;28;43;01mFalse\u001b[39;49;00m\u001b[43m)\u001b[49m\n\u001b[0;32m  11051\u001b[0m \u001b[38;5;28;01mif\u001b[39;00m method \u001b[38;5;241m==\u001b[39m \u001b[38;5;124m\"\u001b[39m\u001b[38;5;124mpearson\u001b[39m\u001b[38;5;124m\"\u001b[39m:\n\u001b[0;32m  11052\u001b[0m     correl \u001b[38;5;241m=\u001b[39m libalgos\u001b[38;5;241m.\u001b[39mnancorr(mat, minp\u001b[38;5;241m=\u001b[39mmin_periods)\n",
      "File \u001b[1;32m~\\AppData\\Roaming\\Python\\Python310\\site-packages\\pandas\\core\\frame.py:1993\u001b[0m, in \u001b[0;36mDataFrame.to_numpy\u001b[1;34m(self, dtype, copy, na_value)\u001b[0m\n\u001b[0;32m   1991\u001b[0m \u001b[38;5;28;01mif\u001b[39;00m dtype \u001b[38;5;129;01mis\u001b[39;00m \u001b[38;5;129;01mnot\u001b[39;00m \u001b[38;5;28;01mNone\u001b[39;00m:\n\u001b[0;32m   1992\u001b[0m     dtype \u001b[38;5;241m=\u001b[39m np\u001b[38;5;241m.\u001b[39mdtype(dtype)\n\u001b[1;32m-> 1993\u001b[0m result \u001b[38;5;241m=\u001b[39m \u001b[38;5;28;43mself\u001b[39;49m\u001b[38;5;241;43m.\u001b[39;49m\u001b[43m_mgr\u001b[49m\u001b[38;5;241;43m.\u001b[39;49m\u001b[43mas_array\u001b[49m\u001b[43m(\u001b[49m\u001b[43mdtype\u001b[49m\u001b[38;5;241;43m=\u001b[39;49m\u001b[43mdtype\u001b[49m\u001b[43m,\u001b[49m\u001b[43m \u001b[49m\u001b[43mcopy\u001b[49m\u001b[38;5;241;43m=\u001b[39;49m\u001b[43mcopy\u001b[49m\u001b[43m,\u001b[49m\u001b[43m \u001b[49m\u001b[43mna_value\u001b[49m\u001b[38;5;241;43m=\u001b[39;49m\u001b[43mna_value\u001b[49m\u001b[43m)\u001b[49m\n\u001b[0;32m   1994\u001b[0m \u001b[38;5;28;01mif\u001b[39;00m result\u001b[38;5;241m.\u001b[39mdtype \u001b[38;5;129;01mis\u001b[39;00m \u001b[38;5;129;01mnot\u001b[39;00m dtype:\n\u001b[0;32m   1995\u001b[0m     result \u001b[38;5;241m=\u001b[39m np\u001b[38;5;241m.\u001b[39masarray(result, dtype\u001b[38;5;241m=\u001b[39mdtype)\n",
      "File \u001b[1;32m~\\AppData\\Roaming\\Python\\Python310\\site-packages\\pandas\\core\\internals\\managers.py:1694\u001b[0m, in \u001b[0;36mBlockManager.as_array\u001b[1;34m(self, dtype, copy, na_value)\u001b[0m\n\u001b[0;32m   1692\u001b[0m         arr\u001b[38;5;241m.\u001b[39mflags\u001b[38;5;241m.\u001b[39mwriteable \u001b[38;5;241m=\u001b[39m \u001b[38;5;28;01mFalse\u001b[39;00m\n\u001b[0;32m   1693\u001b[0m \u001b[38;5;28;01melse\u001b[39;00m:\n\u001b[1;32m-> 1694\u001b[0m     arr \u001b[38;5;241m=\u001b[39m \u001b[38;5;28;43mself\u001b[39;49m\u001b[38;5;241;43m.\u001b[39;49m\u001b[43m_interleave\u001b[49m\u001b[43m(\u001b[49m\u001b[43mdtype\u001b[49m\u001b[38;5;241;43m=\u001b[39;49m\u001b[43mdtype\u001b[49m\u001b[43m,\u001b[49m\u001b[43m \u001b[49m\u001b[43mna_value\u001b[49m\u001b[38;5;241;43m=\u001b[39;49m\u001b[43mna_value\u001b[49m\u001b[43m)\u001b[49m\n\u001b[0;32m   1695\u001b[0m     \u001b[38;5;66;03m# The underlying data was copied within _interleave, so no need\u001b[39;00m\n\u001b[0;32m   1696\u001b[0m     \u001b[38;5;66;03m# to further copy if copy=True or setting na_value\u001b[39;00m\n\u001b[0;32m   1698\u001b[0m \u001b[38;5;28;01mif\u001b[39;00m na_value \u001b[38;5;129;01mis\u001b[39;00m lib\u001b[38;5;241m.\u001b[39mno_default:\n",
      "File \u001b[1;32m~\\AppData\\Roaming\\Python\\Python310\\site-packages\\pandas\\core\\internals\\managers.py:1753\u001b[0m, in \u001b[0;36mBlockManager._interleave\u001b[1;34m(self, dtype, na_value)\u001b[0m\n\u001b[0;32m   1751\u001b[0m     \u001b[38;5;28;01melse\u001b[39;00m:\n\u001b[0;32m   1752\u001b[0m         arr \u001b[38;5;241m=\u001b[39m blk\u001b[38;5;241m.\u001b[39mget_values(dtype)\n\u001b[1;32m-> 1753\u001b[0m     \u001b[43mresult\u001b[49m\u001b[43m[\u001b[49m\u001b[43mrl\u001b[49m\u001b[38;5;241;43m.\u001b[39;49m\u001b[43mindexer\u001b[49m\u001b[43m]\u001b[49m \u001b[38;5;241m=\u001b[39m arr\n\u001b[0;32m   1754\u001b[0m     itemmask[rl\u001b[38;5;241m.\u001b[39mindexer] \u001b[38;5;241m=\u001b[39m \u001b[38;5;241m1\u001b[39m\n\u001b[0;32m   1756\u001b[0m \u001b[38;5;28;01mif\u001b[39;00m \u001b[38;5;129;01mnot\u001b[39;00m itemmask\u001b[38;5;241m.\u001b[39mall():\n",
      "\u001b[1;31mValueError\u001b[0m: could not convert string to float: 'Kelly, Mr. James'"
     ]
    }
   ],
   "source": [
    "matrix = df.corr()\n",
    "print(matrix)\n",
    "\n",
    "# Because there is a string value instead of a float."
   ]
  },
  {
   "cell_type": "markdown",
   "metadata": {
    "id": "_v_OG5PPLUcL"
   },
   "source": [
    "# Part 2: Working with Case Studies\n",
    "\n",
    "When working on these case studies, **always ensure that your code is properly documented and clearly presented**. Follow these key principles:  \n",
    "\n",
    "### **1. Always Show Your Code**  \n",
    "- Every step of data exploration, cleaning, and analysis should include **visible code outputs**.  \n",
    "- Do not skip showing your process, as transparency is essential for reproducibility.  \n",
    "\n",
    "### **2. Proper Documentation is Necessary**  \n",
    "- Use **comments (`#`) in Python** to explain your code clearly.  \n",
    "- Add **Markdown cells** to describe each step before executing the code.  \n",
    "- Explain key findings in simple language to make the analysis easy to understand.  \n",
    "\n",
    "### **3. Use Readable and Organized Code**  \n",
    "- Follow a **step-by-step approach** to keep the notebook structured.  \n",
    "- Use **proper variable names** and avoid hardcoding values where possible."
   ]
  },
  {
   "cell_type": "markdown",
   "metadata": {
    "id": "WOzxo0NoFZJ5"
   },
   "source": [
    "# **Case Study 1: Iris Flower Classification** 🌸  \n",
    "\n",
    "### **Background**  \n",
    "A botanical research institute wants to develop an automated system that classifies different species of **iris flowers** based on their **sepal and petal measurements**.  The dataset consists of **150 samples**, labeled as **Setosa, Versicolor, or Virginica**.  \n",
    "\n",
    "### **Problem Statement**  \n",
    "Can we use **sepal and petal dimensions** to correctly classify the **species of an iris flower**?  \n",
    "\n",
    "### **Task Description**  \n",
    "\n",
    "#### **1. Data Exploration**  \n",
    "- Load the dataset and display the first few rows.  \n",
    "- Identify any missing or inconsistent values.  \n",
    "\n",
    "#### **2. Data Cleaning**  \n",
    "- Check for missing values and handle them appropriately.  \n",
    "- Convert categorical species labels into a format suitable for analysis.  \n",
    "\n",
    "#### **3. Basic Data Analysis**  \n",
    "- Find the average sepal and petal dimensions for each species.  \n",
    "- Identify correlations between different flower measurements.  \n",
    "\n",
    "#### **4. Visualization**  \n",
    "- Create simple visualizations (e.g., histograms, scatter plots) to understand data distribution.  \n",
    "\n",
    "#### **5. Insights & Interpretation**  \n",
    "- Summarize key findings, such as which features best distinguish flower species.  "
   ]
  },
  {
   "cell_type": "code",
   "execution_count": 21,
   "metadata": {
    "id": "VpnqIg63LiAH"
   },
   "outputs": [
    {
     "name": "stdout",
     "output_type": "stream",
     "text": [
      "   sepal_length  sepal_width  petal_length  petal_width      species\n",
      "0           5.1          3.5           1.4          0.2  Iris-setosa\n",
      "1           4.9          3.0           1.4          0.2  Iris-setosa\n",
      "2           4.7          3.2           1.3          0.2  Iris-setosa\n",
      "3           4.6          3.1           1.5          0.2  Iris-setosa\n",
      "4           5.0          3.6           1.4          0.2  Iris-setosa\n",
      "   sepal_length  sepal_width  petal_length  petal_width  species\n",
      "0         False        False         False        False    False\n",
      "1         False        False         False        False    False\n",
      "2         False        False         False        False    False\n",
      "3         False        False         False        False    False\n",
      "4         False        False         False        False    False\n"
     ]
    }
   ],
   "source": [
    "# 1\n",
    "\n",
    "flower = pd.read_csv('iris_dataset.csv')\n",
    "print(flower.head())\n",
    "print(flower.isnull().head())"
   ]
  },
  {
   "cell_type": "code",
   "execution_count": 22,
   "metadata": {},
   "outputs": [
    {
     "name": "stdout",
     "output_type": "stream",
     "text": [
      "     sepal_length  sepal_width  petal_length  petal_width  species\n",
      "0           False        False         False        False    False\n",
      "1           False        False         False        False    False\n",
      "2           False        False         False        False    False\n",
      "3           False        False         False        False    False\n",
      "4           False        False         False        False    False\n",
      "..            ...          ...           ...          ...      ...\n",
      "145         False        False         False        False    False\n",
      "146         False        False         False        False    False\n",
      "147         False        False         False        False    False\n",
      "148         False        False         False        False    False\n",
      "149         False        False         False        False    False\n",
      "\n",
      "[150 rows x 5 columns]\n",
      "     sepal_length  sepal_width  petal_length  petal_width  species\n",
      "0             5.1          3.5           1.4          0.2        0\n",
      "1             4.9          3.0           1.4          0.2        0\n",
      "2             4.7          3.2           1.3          0.2        0\n",
      "3             4.6          3.1           1.5          0.2        0\n",
      "4             5.0          3.6           1.4          0.2        0\n",
      "..            ...          ...           ...          ...      ...\n",
      "145           6.7          3.0           5.2          2.3        2\n",
      "146           6.3          2.5           5.0          1.9        2\n",
      "147           6.5          3.0           5.2          2.0        2\n",
      "148           6.2          3.4           5.4          2.3        2\n",
      "149           5.9          3.0           5.1          1.8        2\n",
      "\n",
      "[150 rows x 5 columns]\n"
     ]
    }
   ],
   "source": [
    "# 2\n",
    "print(flower.isnull())\n",
    "\n",
    "flower['species'] = flower['species'].astype('category').cat.codes\n",
    "print(flower)\n"
   ]
  },
  {
   "cell_type": "code",
   "execution_count": 23,
   "metadata": {},
   "outputs": [
    {
     "name": "stdout",
     "output_type": "stream",
     "text": [
      "         sepal_length  sepal_width  petal_length  petal_width\n",
      "species                                                      \n",
      "0               5.006        3.418         1.464        0.244\n",
      "1               5.936        2.770         4.260        1.326\n",
      "2               6.588        2.974         5.552        2.026\n",
      "              sepal_length  sepal_width  petal_length  petal_width   species\n",
      "sepal_length      1.000000    -0.109369      0.871754     0.817954  0.782561\n",
      "sepal_width      -0.109369     1.000000     -0.420516    -0.356544 -0.419446\n",
      "petal_length      0.871754    -0.420516      1.000000     0.962757  0.949043\n",
      "petal_width       0.817954    -0.356544      0.962757     1.000000  0.956464\n",
      "species           0.782561    -0.419446      0.949043     0.956464  1.000000\n"
     ]
    }
   ],
   "source": [
    "#3\n",
    "\n",
    "average = flower.groupby('species').mean()\n",
    "print(average)\n",
    "\n",
    "flower_matrix = flower.corr()\n",
    "print(flower_matrix)"
   ]
  },
  {
   "cell_type": "code",
   "execution_count": 24,
   "metadata": {},
   "outputs": [
    {
     "data": {
      "image/png": "[encoded data removed]",
      "text/plain": [
       "<Figure size 640x480 with 1 Axes>"
      ]
     },
     "metadata": {},
     "output_type": "display_data"
    }
   ],
   "source": [
    "#4\n",
    "\n",
    "import matplotlib.pyplot as plt\n",
    "\n",
    "plt.scatter(flower['sepal_length'], flower['sepal_width'], flower['petal_length'], flower['petal_width'])\n",
    "plt.show()\n",
    "\n",
    "\n"
   ]
  },
  {
   "cell_type": "code",
   "execution_count": 25,
   "metadata": {},
   "outputs": [],
   "source": [
    "#5\n",
    "\n",
    "# Iris setosa has the smallest petal length and width, while Iris virginica has the largest petal length and width. Iris versicolor is in the middle."
   ]
  },
  {
   "cell_type": "markdown",
   "metadata": {
    "id": "acBPPZF1LN1S"
   },
   "source": [
    "# **Case Study 2: Netflix Content Analysis** 🎬  \n",
    "\n",
    "## **Background**  \n",
    "Netflix is a leading streaming platform with a vast collection of movies and TV shows. The company wants to analyze its **content library** to understand trends in **genres, release years, and regional distribution**.  \n",
    "\n",
    "## **Problem Statement**  \n",
    "How can we use **Netflix’s dataset** to gain insights into content distribution, popular genres, and release trends over time?  \n",
    "\n",
    "## **Task Description**  \n",
    "\n",
    "### **1. Data Exploration**  \n",
    "- Load the dataset and inspect its structure.  \n",
    "- Identify key columns such as title, genre, release year, and country.  \n",
    "\n",
    "### **2. Data Cleaning**  \n",
    "- Check for missing or incorrect values in key columns.  \n",
    "- Remove duplicates and format the date-related data properly.  \n",
    "\n",
    "### **3. Basic Data Analysis**  \n",
    "- Count the number of movies vs. TV shows.  \n",
    "- Identify the most common genres and countries producing content.  \n",
    "- Analyze the number of releases per year to observe trends.  \n",
    "\n",
    "### **4. Insights & Interpretation**  \n",
    "- Summarize key findings, such as trends in Netflix's content production over time.  \n"
   ]
  },
  {
   "cell_type": "code",
   "execution_count": 29,
   "metadata": {
    "id": "Vrd7hTehLigX"
   },
   "outputs": [
    {
     "name": "stdout",
     "output_type": "stream",
     "text": [
      "                      title  \\\n",
      "0      Dick Johnson Is Dead   \n",
      "1             Blood & Water   \n",
      "2                 Ganglands   \n",
      "3     Jailbirds New Orleans   \n",
      "4              Kota Factory   \n",
      "...                     ...   \n",
      "8802                 Zodiac   \n",
      "8803            Zombie Dumb   \n",
      "8804             Zombieland   \n",
      "8805                   Zoom   \n",
      "8806                 Zubaan   \n",
      "\n",
      "                                              listed_in  release_year  \\\n",
      "0                                         Documentaries          2020   \n",
      "1       International TV Shows, TV Dramas, TV Mysteries          2021   \n",
      "2     Crime TV Shows, International TV Shows, TV Act...          2021   \n",
      "3                                Docuseries, Reality TV          2021   \n",
      "4     International TV Shows, Romantic TV Shows, TV ...          2021   \n",
      "...                                                 ...           ...   \n",
      "8802                     Cult Movies, Dramas, Thrillers          2007   \n",
      "8803             Kids' TV, Korean TV Shows, TV Comedies          2018   \n",
      "8804                            Comedies, Horror Movies          2009   \n",
      "8805                 Children & Family Movies, Comedies          2006   \n",
      "8806     Dramas, International Movies, Music & Musicals          2015   \n",
      "\n",
      "            country  \n",
      "0     United States  \n",
      "1      South Africa  \n",
      "2               NaN  \n",
      "3               NaN  \n",
      "4             India  \n",
      "...             ...  \n",
      "8802  United States  \n",
      "8803            NaN  \n",
      "8804  United States  \n",
      "8805  United States  \n",
      "8806          India  \n",
      "\n",
      "[8807 rows x 4 columns]\n"
     ]
    }
   ],
   "source": [
    "# 1\n",
    "\n",
    "netflix = pd.read_csv('netflix_dataset.csv')\n",
    "\n",
    "print(netflix[['title', 'listed_in', 'release_year', 'country']])"
   ]
  },
  {
   "cell_type": "code",
   "execution_count": null,
   "metadata": {},
   "outputs": [
    {
     "name": "stdout",
     "output_type": "stream",
     "text": [
      "show_id            0\n",
      "type               0\n",
      "title              0\n",
      "director        2634\n",
      "cast             825\n",
      "country          831\n",
      "date_added        10\n",
      "release_year       0\n",
      "rating             4\n",
      "duration           3\n",
      "listed_in          0\n",
      "description        0\n",
      "dtype: int64\n",
      "  show_id     type                  title         director  \\\n",
      "0      s1    Movie   Dick Johnson Is Dead  Kirsten Johnson   \n",
      "1      s2  TV Show          Blood & Water              NaN   \n",
      "2      s3  TV Show              Ganglands  Julien Leclercq   \n",
      "3      s4  TV Show  Jailbirds New Orleans              NaN   \n",
      "4      s5  TV Show           Kota Factory              NaN   \n",
      "\n",
      "                                                cast        country  \\\n",
      "0                                                NaN  United States   \n",
      "1  Ama Qamata, Khosi Ngema, Gail Mabalane, Thaban...   South Africa   \n",
      "2  Sami Bouajila, Tracy Gotoas, Samuel Jouy, Nabi...            NaN   \n",
      "3                                                NaN            NaN   \n",
      "4  Mayur More, Jitendra Kumar, Ranjan Raj, Alam K...          India   \n",
      "\n",
      "  date_added  release_year rating   duration  \\\n",
      "0 2021-09-25          2020  PG-13     90 min   \n",
      "1 2021-09-24          2021  TV-MA  2 Seasons   \n",
      "2 2021-09-24          2021  TV-MA   1 Season   \n",
      "3 2021-09-24          2021  TV-MA   1 Season   \n",
      "4 2021-09-24          2021  TV-MA  2 Seasons   \n",
      "\n",
      "                                           listed_in  \\\n",
      "0                                      Documentaries   \n",
      "1    International TV Shows, TV Dramas, TV Mysteries   \n",
      "2  Crime TV Shows, International TV Shows, TV Act...   \n",
      "3                             Docuseries, Reality TV   \n",
      "4  International TV Shows, Romantic TV Shows, TV ...   \n",
      "\n",
      "                                         description  \n",
      "0  As her father nears the end of his life, filmm...  \n",
      "1  After crossing paths at a party, a Cape Town t...  \n",
      "2  To protect his family from a powerful drug lor...  \n",
      "3  Feuds, flirtations and toilet talk go down amo...  \n",
      "4  In a city of coaching centers known to train I...  \n"
     ]
    }
   ],
   "source": [
    "# 2\n",
    "\n",
    "print(netflix.isnull().sum())\n",
    "netflix_duples = netflix.drop_duplicates()\n",
    "\n",
    "netflix_duples['date_added'] = pd.to_datetime(netflix_duples['date_added'], errors='coerce')\n",
    "print(netflix_duples.head())\n",
    "\n"
   ]
  },
  {
   "cell_type": "code",
   "execution_count": 41,
   "metadata": {},
   "outputs": [
    {
     "name": "stdout",
     "output_type": "stream",
     "text": [
      "type\n",
      "Movie      6131\n",
      "TV Show    2676\n",
      "Name: count, dtype: int64\n",
      "listed_in\n",
      "Dramas, International Movies                        362\n",
      "Documentaries                                       359\n",
      "Stand-Up Comedy                                     334\n",
      "Comedies, Dramas, International Movies              274\n",
      "Dramas, Independent Movies, International Movies    252\n",
      "Name: count, dtype: int64\n",
      "country\n",
      "United States     2818\n",
      "India              972\n",
      "United Kingdom     419\n",
      "Japan              245\n",
      "South Korea        199\n",
      "Name: count, dtype: int64\n"
     ]
    },
    {
     "data": {
      "image/png": "[encoded data removed]",
      "text/plain": [
       "<Figure size 1200x600 with 1 Axes>"
      ]
     },
     "metadata": {},
     "output_type": "display_data"
    }
   ],
   "source": [
    "# 3\n",
    "\n",
    "count = netflix['type'].value_counts()\n",
    "print(count)\n",
    "\n",
    "genres = netflix['listed_in'].value_counts().head(5)\n",
    "print(genres)\n",
    "\n",
    "countries = netflix['country'].value_counts().head(5)\n",
    "print(countries)\n",
    "\n",
    "trends = netflix['release_year'].value_counts().sort_index()\n",
    "plt.figure(figsize=(12, 6))\n",
    "plt.plot(trends.index, trends.values, marker='o')\n",
    "plt.title('Number of Releases per Year')\n",
    "plt.xlabel('Year')\n",
    "plt.ylabel('Number of Releases')\n",
    "plt.grid(True)\n",
    "plt.show()\n"
   ]
  },
  {
   "cell_type": "code",
   "execution_count": 42,
   "metadata": {},
   "outputs": [],
   "source": [
    "# 4\n",
    "\n",
    "# There are more movies than TV shows on Netflix. There are more recent releases than older releases. The number of releases on Netflix has been increasing over the years."
   ]
  }
 ],
 "metadata": {
  "colab": {
   "provenance": []
  },
  "kernelspec": {
   "display_name": "Python 3",
   "name": "python3"
  },
  "language_info": {
   "codemirror_mode": {
    "name": "ipython",
    "version": 3
   },
   "file_extension": ".py",
   "mimetype": "text/x-python",
   "name": "python",
   "nbconvert_exporter": "python",
   "pygments_lexer": "ipython3",
   "version": "3.10.0"
  }
 },
 "nbformat": 4,
 "nbformat_minor": 0
}
