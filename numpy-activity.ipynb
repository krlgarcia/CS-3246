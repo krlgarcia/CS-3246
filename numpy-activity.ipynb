{
 "cells": [
  {
   "cell_type": "markdown",
   "metadata": {
    "id": "A4GF3lV6jm5x"
   },
   "source": [
    "# **Activity 1: NumPy Exercise**\n",
    "\n",
    "**Objective:**\n",
    "\n",
    "Practice NumPy's array manipulation, indexing, and mathematical functions by solving problems related to basic data analysis and matrix operations."
   ]
  },
  {
   "cell_type": "markdown",
   "metadata": {
    "id": "Pq3P9XLbjVU4"
   },
   "source": [
    "## **Part 1**"
   ]
  },
  {
   "cell_type": "markdown",
   "metadata": {
    "id": "VkOXGCuiLGR9"
   },
   "source": [
    "#### 1. Import the numpy package under the name `np`\n"
   ]
  },
  {
   "cell_type": "code",
   "execution_count": null,
   "metadata": {
    "id": "DhbEnfx8O314"
   },
   "outputs": [],
   "source": [
    "# Garcia\n",
    "\n",
    "import numpy as np"
   ]
  },
  {
   "cell_type": "markdown",
   "metadata": {
    "id": "ktNjFh4pO-5C"
   },
   "source": [
    "#### 2. Print the numpy version"
   ]
  },
  {
   "cell_type": "code",
   "execution_count": 4,
   "metadata": {
    "id": "7tZfwQhhPQoI"
   },
   "outputs": [
    {
     "name": "stdout",
     "output_type": "stream",
     "text": [
      "2.2.2\n"
     ]
    }
   ],
   "source": [
    "import numpy as np\n",
    "\n",
    "print(np.__version__)"
   ]
  },
  {
   "cell_type": "markdown",
   "metadata": {
    "id": "D4V99t3oQRAB"
   },
   "source": [
    "#### 3. Create a null array of size 5"
   ]
  },
  {
   "cell_type": "code",
   "execution_count": 20,
   "metadata": {
    "id": "XnL-QmA_QYa2"
   },
   "outputs": [
    {
     "name": "stdout",
     "output_type": "stream",
     "text": [
      "[0. 0. 0. 0. 0.]\n"
     ]
    }
   ],
   "source": [
    "import numpy as np\n",
    "\n",
    "arr = np.zeros([5])\n",
    "\n",
    "print(arr)"
   ]
  },
  {
   "cell_type": "markdown",
   "metadata": {
    "id": "x9tAEjPlQcnh"
   },
   "source": [
    "#### 4. Create a null array of size 15 but the seventh value which is 1"
   ]
  },
  {
   "cell_type": "code",
   "execution_count": 17,
   "metadata": {
    "id": "VgwfRV6OQlGk"
   },
   "outputs": [
    {
     "name": "stdout",
     "output_type": "stream",
     "text": [
      "[0. 0. 0. 0. 0. 0. 1. 0. 0. 0. 0. 0. 0. 0. 0.]\n"
     ]
    }
   ],
   "source": [
    "import numpy as np\n",
    "\n",
    "arr = np.zeros([15])\n",
    "arr[6] = 1\n",
    "\n",
    "print(arr)"
   ]
  },
  {
   "cell_type": "markdown",
   "metadata": {
    "id": "a5_Af-hYTi-X"
   },
   "source": [
    "#### 5. Create a 4x4 matrix with values ranging from 0 to 11"
   ]
  },
  {
   "cell_type": "code",
   "execution_count": 211,
   "metadata": {
    "id": "HSlLeK5YQ5Lo"
   },
   "outputs": [
    {
     "name": "stdout",
     "output_type": "stream",
     "text": [
      "[[14  4  0  8]\n",
      " [ 3 15  7  0]\n",
      " [ 6  1  0 12]\n",
      " [ 2 13  6  7]]\n"
     ]
    }
   ],
   "source": [
    "from numpy import random\n",
    "\n",
    "arr = random.randint(0, 16, (4, 4))\n",
    "\n",
    "print(arr)"
   ]
  },
  {
   "cell_type": "markdown",
   "metadata": {
    "id": "nLJvzwjfVXOL"
   },
   "source": [
    "#### 6. Find indices of non-zero elements from [1,2,4,0,4,0]"
   ]
  },
  {
   "cell_type": "code",
   "execution_count": 21,
   "metadata": {
    "id": "o8vyHuWfVbXu"
   },
   "outputs": [
    {
     "name": "stdout",
     "output_type": "stream",
     "text": [
      "(array([0, 1, 2, 4]),)\n"
     ]
    }
   ],
   "source": [
    "import numpy as np\n",
    "\n",
    "arr = np.array([1, 2, 4, 0, 4, 0])\n",
    "\n",
    "x = np.where(arr > 0)\n",
    "\n",
    "print(x)"
   ]
  },
  {
   "cell_type": "markdown",
   "metadata": {
    "id": "z6OrgicLV6C-"
   },
   "source": [
    "#### 7. Create a 4x4x4 array with random values"
   ]
  },
  {
   "cell_type": "code",
   "execution_count": 43,
   "metadata": {
    "collapsed": true,
    "id": "MhcNEK55V1UF"
   },
   "outputs": [
    {
     "name": "stdout",
     "output_type": "stream",
     "text": [
      "[[[0.71586323 0.35571273 0.18781153 0.44291041]\n",
      "  [0.75998109 0.19353718 0.979393   0.686807  ]\n",
      "  [0.37528048 0.56466756 0.12963661 0.82158148]\n",
      "  [0.79621129 0.21776255 0.79900173 0.86240859]]\n",
      "\n",
      " [[0.03573017 0.95706949 0.39497778 0.65313554]\n",
      "  [0.11149421 0.2254502  0.70197289 0.40775471]\n",
      "  [0.69140142 0.31360112 0.5197921  0.75669368]\n",
      "  [0.22799612 0.5758065  0.91430953 0.63251652]]\n",
      "\n",
      " [[0.5019376  0.94563378 0.63385357 0.51360083]\n",
      "  [0.87761466 0.41881806 0.26494427 0.77997523]\n",
      "  [0.27730666 0.84429044 0.06394008 0.2659985 ]\n",
      "  [0.81077205 0.69080754 0.1585531  0.06225316]]\n",
      "\n",
      " [[0.10616069 0.94019057 0.08432232 0.43684609]\n",
      "  [0.71680674 0.73350872 0.60927582 0.47462672]\n",
      "  [0.42946071 0.59389025 0.9439673  0.886777  ]\n",
      "  [0.06072565 0.12317068 0.11186621 0.56437689]]]\n"
     ]
    }
   ],
   "source": [
    "from numpy import random\n",
    "\n",
    "arr = random.rand(4, 4, 4)\n",
    "\n",
    "print(arr)"
   ]
  },
  {
   "cell_type": "markdown",
   "metadata": {
    "id": "aLqeru_NWso3"
   },
   "source": [
    "#### 8. Create a 15x15 array with random assigned values and find the min and max values"
   ]
  },
  {
   "cell_type": "code",
   "execution_count": 46,
   "metadata": {
    "collapsed": true,
    "id": "eSpxGZ2GWqDo"
   },
   "outputs": [
    {
     "name": "stdout",
     "output_type": "stream",
     "text": [
      "[[0.2189467  0.9727936  0.33994884 0.65632589 0.83959294 0.99645877\n",
      "  0.93659841 0.27535764 0.37147267 0.56981765 0.59795029 0.84316465\n",
      "  0.45160804 0.42722175 0.09351776]\n",
      " [0.30072033 0.25349682 0.34757941 0.95214684 0.03092571 0.94400858\n",
      "  0.61556795 0.94759319 0.2735768  0.00476768 0.41804845 0.6868981\n",
      "  0.57938076 0.60534461 0.15961734]\n",
      " [0.43693846 0.21056968 0.09946964 0.56185739 0.24365191 0.0880851\n",
      "  0.66564882 0.84499572 0.57787221 0.29732614 0.40755903 0.31333327\n",
      "  0.61448281 0.61882171 0.43922011]\n",
      " [0.32176944 0.70288657 0.51049601 0.22302409 0.50979486 0.52664724\n",
      "  0.76624166 0.09902083 0.91812597 0.06432892 0.68512001 0.67172163\n",
      "  0.8756088  0.2097748  0.78057411]\n",
      " [0.39745703 0.91645209 0.59467017 0.98004798 0.35993018 0.3866761\n",
      "  0.07111729 0.21912064 0.07389773 0.29854311 0.58992925 0.41894367\n",
      "  0.66329568 0.23787372 0.03334566]\n",
      " [0.53159483 0.57411774 0.3838615  0.64602121 0.28479976 0.57031652\n",
      "  0.29744646 0.39319816 0.07801391 0.83752052 0.56253387 0.30582425\n",
      "  0.54064339 0.04928514 0.72508833]\n",
      " [0.37367397 0.12909571 0.27990918 0.2191183  0.90484697 0.2703532\n",
      "  0.76956948 0.18710037 0.36511448 0.76479496 0.48510602 0.57190237\n",
      "  0.9491364  0.71108751 0.80762795]\n",
      " [0.12560962 0.9285642  0.54657227 0.04221202 0.49847924 0.53681433\n",
      "  0.68511323 0.22203201 0.27361179 0.72378953 0.58252046 0.23107523\n",
      "  0.41483957 0.47448621 0.88263169]\n",
      " [0.15846236 0.62798736 0.23415507 0.10609844 0.67256794 0.41620235\n",
      "  0.77271903 0.79548522 0.28786844 0.41562895 0.38698834 0.51944008\n",
      "  0.97166431 0.78658814 0.91344084]\n",
      " [0.79478961 0.42390031 0.01689043 0.00996236 0.89785202 0.97089519\n",
      "  0.70729434 0.24129951 0.62768557 0.63911233 0.36943824 0.91414855\n",
      "  0.37287834 0.63815462 0.91915715]\n",
      " [0.40571214 0.03417456 0.57686024 0.69822653 0.86706046 0.84123153\n",
      "  0.76944934 0.19185154 0.62378882 0.72357446 0.42158061 0.10971169\n",
      "  0.19204482 0.76706749 0.09588163]\n",
      " [0.06970745 0.45744017 0.9060183  0.70251372 0.78141127 0.7997136\n",
      "  0.86422417 0.49106555 0.03149385 0.48743864 0.31830592 0.76761944\n",
      "  0.31803198 0.27779526 0.70677309]\n",
      " [0.77620214 0.13100423 0.92264132 0.49688748 0.59729764 0.32556693\n",
      "  0.66318725 0.30320171 0.69443362 0.79885667 0.50333358 0.4180233\n",
      "  0.78182    0.6669247  0.6196394 ]\n",
      " [0.97192317 0.76638908 0.65907701 0.11311965 0.13907598 0.94687202\n",
      "  0.54712959 0.50598954 0.71842687 0.92411322 0.20118999 0.67123536\n",
      "  0.65634866 0.35770119 0.27650965]\n",
      " [0.07619817 0.89498014 0.04360172 0.80990664 0.08593845 0.94200134\n",
      "  0.18877841 0.74701613 0.91499246 0.582595   0.03281224 0.98323234\n",
      "  0.2009681  0.50649872 0.40937879]]\n",
      "Min: 0.004767684791329385\n",
      "Max: 0.9964587654303962\n"
     ]
    }
   ],
   "source": [
    "from numpy import random\n",
    "\n",
    "arr = random.rand(15, 15)\n",
    "\n",
    "x = np.min(arr)\n",
    "y = np.max(arr)\n",
    "\n",
    "print(arr)\n",
    "\n",
    "print(\"Min:\", x)\n",
    "print(\"Max:\", y)"
   ]
  },
  {
   "cell_type": "markdown",
   "metadata": {
    "id": "jIAQPvclbEVr"
   },
   "source": [
    "#### 9. Create a random array of size 25 and find the mean value"
   ]
  },
  {
   "cell_type": "code",
   "execution_count": 41,
   "metadata": {
    "id": "q91Y8GMebPeY"
   },
   "outputs": [
    {
     "name": "stdout",
     "output_type": "stream",
     "text": [
      "[0.91938785 0.9008424  0.32591805 0.94797708 0.56949286 0.01528093\n",
      " 0.49835477 0.15888548 0.71585147 0.72117163 0.03832956 0.29960306\n",
      " 0.00360618 0.74069801 0.08291275 0.50469994 0.28255257 0.28539326\n",
      " 0.32396557 0.5207503  0.62336674 0.17787292 0.16296336 0.74454233\n",
      " 0.16228234]\n",
      "Mean: 0.4290680564854651\n"
     ]
    }
   ],
   "source": [
    "from numpy import random\n",
    "\n",
    "arr = random.rand(25)\n",
    "\n",
    "x = np.mean(arr)\n",
    "\n",
    "print(arr)\n",
    "print(\"Mean:\", x)"
   ]
  },
  {
   "cell_type": "markdown",
   "metadata": {
    "id": "1z3JFRgAkmNP"
   },
   "source": [
    "#### 10.  Show your codes\n",
    "\n",
    "Given:\n",
    "\n",
    "array 1 = ([2, 4, 9])\\\n",
    "array 2 = ([1, 14, 6])\n",
    "\n",
    "  *Note: Recreate the arrays*"
   ]
  },
  {
   "cell_type": "code",
   "execution_count": 57,
   "metadata": {
    "id": "jiC8LUdknLPN"
   },
   "outputs": [
    {
     "name": "stdout",
     "output_type": "stream",
     "text": [
      "[2 4 9]\n",
      "[ 1 14  6]\n"
     ]
    }
   ],
   "source": [
    "import numpy as np\n",
    "\n",
    "a = np.array([2, 4, 9])\n",
    "b = np.array([1, 14, 6])\n",
    "\n",
    "print(a)\n",
    "print(b)"
   ]
  },
  {
   "cell_type": "markdown",
   "metadata": {
    "id": "QFPFjpSSmecQ"
   },
   "source": [
    "10.1 What is the result of *a + b*?"
   ]
  },
  {
   "cell_type": "code",
   "execution_count": 59,
   "metadata": {
    "id": "Yqcpj3ccm5La"
   },
   "outputs": [
    {
     "name": "stdout",
     "output_type": "stream",
     "text": [
      "[ 3 18 15]\n"
     ]
    }
   ],
   "source": [
    "print(a + b)"
   ]
  },
  {
   "cell_type": "markdown",
   "metadata": {
    "id": "t0__U1Bum7k6"
   },
   "source": [
    "10.2 What is the result of *a - b*?"
   ]
  },
  {
   "cell_type": "code",
   "execution_count": 52,
   "metadata": {
    "id": "SmuAcAubnCNO"
   },
   "outputs": [
    {
     "name": "stdout",
     "output_type": "stream",
     "text": [
      "[  1 -10   3]\n"
     ]
    }
   ],
   "source": [
    "print(a - b)"
   ]
  },
  {
   "cell_type": "markdown",
   "metadata": {
    "id": "5dbiR_Urm5fJ"
   },
   "source": [
    "10.3 What is the result of *a × b*?"
   ]
  },
  {
   "cell_type": "code",
   "execution_count": 54,
   "metadata": {
    "id": "Zpnb_vGqksSF"
   },
   "outputs": [
    {
     "name": "stdout",
     "output_type": "stream",
     "text": [
      "[ 2 56 54]\n"
     ]
    }
   ],
   "source": [
    "print(a * b)"
   ]
  },
  {
   "cell_type": "markdown",
   "metadata": {
    "id": "jHTozQuZp2WM"
   },
   "source": [
    "10.4 What is the result of *a ÷ b*?"
   ]
  },
  {
   "cell_type": "code",
   "execution_count": 55,
   "metadata": {
    "id": "9Jx0GzTIqArP"
   },
   "outputs": [
    {
     "name": "stdout",
     "output_type": "stream",
     "text": [
      "[2.         0.28571429 1.5       ]\n"
     ]
    }
   ],
   "source": [
    "print(a / b)"
   ]
  },
  {
   "cell_type": "markdown",
   "metadata": {
    "id": "I3FhrIORjZsA"
   },
   "source": [
    "## **Part 2**"
   ]
  },
  {
   "cell_type": "markdown",
   "metadata": {
    "id": "JDa9MTb2wXPi"
   },
   "source": [
    "##### NumPy Array Indexing"
   ]
  },
  {
   "cell_type": "markdown",
   "metadata": {
    "id": "M4rwQgDqrLoo"
   },
   "source": [
    "\n",
    "Given the following matrix:\n",
    "\n",
    "        [[10, 20, 30],\n",
    "        [40, 50, 60],\n",
    "        [70, 80, 90]]\n",
    "\n",
    " 1. Recreate the matrix"
   ]
  },
  {
   "cell_type": "code",
   "execution_count": 60,
   "metadata": {
    "id": "Ra4n8YBQr2RZ"
   },
   "outputs": [
    {
     "name": "stdout",
     "output_type": "stream",
     "text": [
      "[[10 20 30]\n",
      " [40 50 60]\n",
      " [70 80 90]]\n"
     ]
    }
   ],
   "source": [
    "import numpy as np\n",
    "\n",
    "arr = np.array([[10, 20, 30], [40, 50, 60], [70, 80, 90]])\n",
    "\n",
    "print(arr)"
   ]
  },
  {
   "cell_type": "markdown",
   "metadata": {
    "id": "br-ZYkK3uo24"
   },
   "source": [
    "1. Write code to extract the element 50."
   ]
  },
  {
   "cell_type": "code",
   "execution_count": 63,
   "metadata": {
    "id": "kI7jzTiYrTep"
   },
   "outputs": [
    {
     "name": "stdout",
     "output_type": "stream",
     "text": [
      "50\n"
     ]
    }
   ],
   "source": [
    "print(arr[1, 1])"
   ]
  },
  {
   "cell_type": "markdown",
   "metadata": {
    "id": "H1OsD655sEX6"
   },
   "source": [
    "2. **Extract a Row**\\\n",
    "\\\n",
    "Using the same array arr, extract the second row as a separate NumPy array."
   ]
  },
  {
   "cell_type": "code",
   "execution_count": 86,
   "metadata": {
    "id": "jf-K5No5sRob"
   },
   "outputs": [
    {
     "name": "stdout",
     "output_type": "stream",
     "text": [
      "[40 50 60]\n"
     ]
    }
   ],
   "source": [
    "x = np.array(arr[1])\n",
    "\n",
    "print(x)"
   ]
  },
  {
   "cell_type": "markdown",
   "metadata": {
    "id": "qk1-NvWjsVC3"
   },
   "source": [
    "3.  **Extract a Column**\\\n",
    "\\\n",
    "Using arr, extract the third column as a separate NumPy array."
   ]
  },
  {
   "cell_type": "code",
   "execution_count": 87,
   "metadata": {
    "id": "d1s1c5q9sgID"
   },
   "outputs": [
    {
     "name": "stdout",
     "output_type": "stream",
     "text": [
      "[30 60 90]\n"
     ]
    }
   ],
   "source": [
    "y = np.array([arr[0, 2], arr[1, 2], arr[2, 2]])\n",
    "\n",
    "print(y)"
   ]
  },
  {
   "cell_type": "markdown",
   "metadata": {
    "id": "DIe9pf8nskUZ"
   },
   "source": [
    "4. **Extract a Submatrix**\\\n",
    "\\\n",
    "Extract the following 2×2 submatrix from arr:\\\n",
    "\n",
    "  [[50 60]\\\n",
    " [80 90]]"
   ]
  },
  {
   "cell_type": "code",
   "execution_count": 67,
   "metadata": {
    "id": "37dC5sA3ssZV"
   },
   "outputs": [
    {
     "name": "stdout",
     "output_type": "stream",
     "text": [
      "[[50 60]\n",
      " [80 90]]\n"
     ]
    }
   ],
   "source": [
    "z = np.array([[arr[1, 1], arr[1, 2]], [arr[2, 1], arr[2, 2]]])\n",
    "\n",
    "print(z)"
   ]
  },
  {
   "cell_type": "markdown",
   "metadata": {
    "id": "ABs-32sKwOcg"
   },
   "source": [
    "##### NumPy Array Slicing"
   ]
  },
  {
   "cell_type": "markdown",
   "metadata": {
    "id": "T7kcCxr9uGAO"
   },
   "source": [
    "Given the following matrix:\n",
    "\n",
    "                [ 1,  2,  3,  4],\n",
    "                [ 5,  6,  7,  8],\n",
    "                [ 9, 10, 11, 12]]\n",
    "\n",
    "1. Recreate the matrix"
   ]
  },
  {
   "cell_type": "code",
   "execution_count": 89,
   "metadata": {
    "id": "CvzBw2FpwasA"
   },
   "outputs": [
    {
     "name": "stdout",
     "output_type": "stream",
     "text": [
      "[[ 1  2  3  4]\n",
      " [ 5  6  7  8]\n",
      " [ 9 10 11 12]]\n"
     ]
    }
   ],
   "source": [
    "import numpy as np\n",
    "\n",
    "arr = np.array([[1, 2, 3, 4], [5, 6, 7, 8], [9, 10, 11, 12]])\n",
    "\n",
    "print(arr)"
   ]
  },
  {
   "cell_type": "markdown",
   "metadata": {
    "id": "YaaIsRTVwlof"
   },
   "source": [
    "2. Write code to extract the following 2×2 subarray:\n",
    "\n",
    "        [[ 6  7]\n",
    "        [10 11]]"
   ]
  },
  {
   "cell_type": "code",
   "execution_count": null,
   "metadata": {
    "id": "PpyFr5wYwuLN"
   },
   "outputs": [
    {
     "name": "stdout",
     "output_type": "stream",
     "text": [
      "[[ 6  7]\n",
      " [10 11]]\n"
     ]
    }
   ],
   "source": [
    "w = arr[1:3, 1:3]\n",
    "\n",
    "print(w)"
   ]
  },
  {
   "cell_type": "markdown",
   "metadata": {
    "id": "poinisgbw02m"
   },
   "source": [
    "3. Using the same matrix, write code to extract every other element from the first row (expected output: [1, 3])."
   ]
  },
  {
   "cell_type": "code",
   "execution_count": null,
   "metadata": {
    "id": "9UyP9S3Ww-wf"
   },
   "outputs": [
    {
     "name": "stdout",
     "output_type": "stream",
     "text": [
      "[1 3]\n"
     ]
    }
   ],
   "source": [
    "x = arr[0, ::2]\n",
    "\n",
    "print(x)"
   ]
  },
  {
   "cell_type": "markdown",
   "metadata": {
    "id": "0it7IxPqxTq3"
   },
   "source": [
    "4. Write code to reverse the order of rows in the matrix"
   ]
  },
  {
   "cell_type": "code",
   "execution_count": 114,
   "metadata": {
    "id": "-tqPKhrmxWP7"
   },
   "outputs": [
    {
     "name": "stdout",
     "output_type": "stream",
     "text": [
      "[[ 9 10 11 12]\n",
      " [ 5  6  7  8]\n",
      " [ 1  2  3  4]]\n"
     ]
    }
   ],
   "source": [
    "y = arr[::-1]\n",
    "\n",
    "print(y)"
   ]
  },
  {
   "cell_type": "markdown",
   "metadata": {
    "id": "C8EWGps7xfYl"
   },
   "source": [
    "5. Write code to extract the last two columns of the matrix."
   ]
  },
  {
   "cell_type": "code",
   "execution_count": 116,
   "metadata": {
    "id": "F7sJw1N1xiKC"
   },
   "outputs": [
    {
     "name": "stdout",
     "output_type": "stream",
     "text": [
      "[[ 3  4]\n",
      " [ 7  8]\n",
      " [11 12]]\n"
     ]
    }
   ],
   "source": [
    "z = arr[:, -2:]\n",
    "\n",
    "print(z)"
   ]
  },
  {
   "cell_type": "markdown",
   "metadata": {
    "id": "_8sVIp1q2MYw"
   },
   "source": [
    "##### NumPy Array Joins\n",
    "\n",
    "1. Given the following arrays:\n",
    "\n",
    "        arr1 = ([11, 7, 33])\\\n",
    "        arr2 = ([44, 5, 18])\n",
    "\n",
    "1.1 Recreate the arrays"
   ]
  },
  {
   "cell_type": "code",
   "execution_count": 117,
   "metadata": {
    "id": "-1H2IYDs2hMx"
   },
   "outputs": [
    {
     "name": "stdout",
     "output_type": "stream",
     "text": [
      "[11  7 33]\n",
      "[44  5 18]\n"
     ]
    }
   ],
   "source": [
    "import numpy as np\n",
    "\n",
    "arr1 = np.array([11, 7, 33])\n",
    "arr2 = np.array([44, 5, 18])\n",
    "\n",
    "print(arr1)\n",
    "print(arr2)"
   ]
  },
  {
   "cell_type": "markdown",
   "metadata": {
    "id": "jJ-OxwEZ2ysr"
   },
   "source": [
    "2. Write code to join arr1 and arr2 into a single 1D array."
   ]
  },
  {
   "cell_type": "code",
   "execution_count": 120,
   "metadata": {
    "id": "fyKL42Yv2ewQ"
   },
   "outputs": [
    {
     "name": "stdout",
     "output_type": "stream",
     "text": [
      "[11  7 33 44  5 18]\n"
     ]
    }
   ],
   "source": [
    "x = np.concatenate((arr1, arr2))\n",
    "\n",
    "print(x)"
   ]
  },
  {
   "cell_type": "markdown",
   "metadata": {
    "id": "1qiYH-0v25Z2"
   },
   "source": [
    "3. Using arr1 and arr2 from question 1, write code to stack them vertically into a 2D array."
   ]
  },
  {
   "cell_type": "code",
   "execution_count": 123,
   "metadata": {
    "id": "MgR89wkS2_Nw"
   },
   "outputs": [
    {
     "name": "stdout",
     "output_type": "stream",
     "text": [
      "[[11  7 33]\n",
      " [44  5 18]]\n"
     ]
    }
   ],
   "source": [
    "y = np.stack((arr1, arr2), axis=0)\n",
    "\n",
    "print(y)"
   ]
  },
  {
   "cell_type": "markdown",
   "metadata": {
    "id": "mLanHC623JpJ"
   },
   "source": [
    "4. Given the 2D arrays:\n",
    "\n",
    "        arr1 = ([[1, 2],\n",
    "               [3, 4]])\n",
    "\n",
    "        arr2 = ([[5, 6],\n",
    "               [7, 8]])\n",
    "\n",
    "4.1 Recreate the arrays"
   ]
  },
  {
   "cell_type": "code",
   "execution_count": 124,
   "metadata": {
    "id": "FDGnOATJ3JE4"
   },
   "outputs": [
    {
     "name": "stdout",
     "output_type": "stream",
     "text": [
      "[[1 2]\n",
      " [3 4]]\n",
      "[[5 6]\n",
      " [7 8]]\n"
     ]
    }
   ],
   "source": [
    "import numpy as np\n",
    "\n",
    "arr1 = np.array([[1, 2], [3, 4]])\n",
    "arr2 = np.array([[5, 6], [7, 8]])\n",
    "\n",
    "print(arr1)\n",
    "print(arr2)"
   ]
  },
  {
   "cell_type": "markdown",
   "metadata": {
    "id": "RyJFIfpo3wiA"
   },
   "source": [
    "5. Write code to join them horizontally (column-wise)."
   ]
  },
  {
   "cell_type": "code",
   "execution_count": 125,
   "metadata": {
    "id": "0eHEY4N63zgT"
   },
   "outputs": [
    {
     "name": "stdout",
     "output_type": "stream",
     "text": [
      "[[1 2]\n",
      " [3 4]\n",
      " [5 6]\n",
      " [7 8]]\n"
     ]
    }
   ],
   "source": [
    "x = np.vstack((arr1, arr2))\n",
    "\n",
    "print(x)"
   ]
  },
  {
   "cell_type": "markdown",
   "metadata": {
    "id": "encqt9P74ZSv"
   },
   "source": [
    "6. Using arr1 and arr2 from question 4, write code to join them vertically (row-wise).\n"
   ]
  },
  {
   "cell_type": "code",
   "execution_count": 126,
   "metadata": {
    "id": "o-UjS1Kn4rS7"
   },
   "outputs": [
    {
     "name": "stdout",
     "output_type": "stream",
     "text": [
      "[[1 2 5 6]\n",
      " [3 4 7 8]]\n"
     ]
    }
   ],
   "source": [
    "y = np.hstack((arr1, arr2))\n",
    "\n",
    "print(y)"
   ]
  },
  {
   "cell_type": "markdown",
   "metadata": {
    "id": "2l2umcfvjlXq"
   },
   "source": [
    "## **Part 3**"
   ]
  },
  {
   "cell_type": "markdown",
   "metadata": {
    "id": "-rs5StZQlvYg"
   },
   "source": [
    "### Task 1: Array Creation"
   ]
  },
  {
   "cell_type": "markdown",
   "metadata": {
    "id": "PKyTiCLulztg"
   },
   "source": [
    "Create the following arrays:\n",
    "\n",
    "- A 1D array of integers from 10 to 28, with a step of 2.\n",
    "- A 2D array with shape (4, 4) containing random integers between 1 and 50.\n",
    "- A 3D array of shape (2, 3, 4) filled with ones.\n",
    "\n"
   ]
  },
  {
   "cell_type": "code",
   "execution_count": 1,
   "metadata": {
    "collapsed": true,
    "id": "GRWUhpV46cR4"
   },
   "outputs": [
    {
     "name": "stdout",
     "output_type": "stream",
     "text": [
      "[10 12 14 16 18 20 22 24 26 28]\n",
      "[[20 48  6  3]\n",
      " [41 23 14 17]\n",
      " [22 18 37 11]\n",
      " [ 4 47 29 29]]\n",
      "[[[1. 1. 1. 1.]\n",
      "  [1. 1. 1. 1.]\n",
      "  [1. 1. 1. 1.]]\n",
      "\n",
      " [[1. 1. 1. 1.]\n",
      "  [1. 1. 1. 1.]\n",
      "  [1. 1. 1. 1.]]]\n"
     ]
    }
   ],
   "source": [
    "import numpy as np\n",
    "from numpy import random\n",
    "\n",
    "arr1 = np.arange(10, 29, (2))\n",
    "arr2 = random.randint(1, 50, (4, 4))\n",
    "arr3 = np.ones((2, 3, 4))\n",
    "\n",
    "arrx = arr2.copy()\n",
    "\n",
    "print(arr1)\n",
    "print(arr2)\n",
    "print(arr3)"
   ]
  },
  {
   "cell_type": "markdown",
   "metadata": {
    "id": "yZPELZSx7ggA"
   },
   "source": [
    "### Task 2: Array Transformations\n",
    "Perform the following operations:\n",
    "- Reshape the 1D array to a 2D array with 2 rows.\n",
    "- Extract the last two rows of the 2D array (From Task 1)\n",
    "- Replace all even numbers in the 2D array with -1. (From Task 1)"
   ]
  },
  {
   "cell_type": "code",
   "execution_count": 2,
   "metadata": {
    "id": "5EJrW4nw7sIE"
   },
   "outputs": [
    {
     "name": "stdout",
     "output_type": "stream",
     "text": [
      "[[10 12 14 16 18]\n",
      " [20 22 24 26 28]]\n",
      "[[22 18 37 11]\n",
      " [ 4 47 29 29]]\n",
      "[[-1 -1 -1  3]\n",
      " [41 23 -1 17]\n",
      " [-1 -1 37 11]\n",
      " [-1 47 29 29]]\n"
     ]
    }
   ],
   "source": [
    "newarr = arr1.reshape(2, -1)\n",
    "print(newarr)\n",
    "\n",
    "extract = arr2[-2:]\n",
    "print(extract)\n",
    "\n",
    "arr2[arr2 % 2 == 0] = -1\n",
    "print(arr2)"
   ]
  },
  {
   "cell_type": "markdown",
   "metadata": {
    "id": "ZkDoNNBjn7nP"
   },
   "source": [
    "### Task 3: Statistical Operations"
   ]
  },
  {
   "cell_type": "markdown",
   "metadata": {
    "id": "87sRNKp0n7nP"
   },
   "source": [
    "Using the 2D array from **Task 1**, compute the following:\n",
    "\n",
    "- The mean, median, and standard deviation of the array. (From Task 1)\n",
    "- The sum of all elements along each row. (From Task 1)\n",
    "- The maximum value and its index in the entire array. (From Task 1)\n"
   ]
  },
  {
   "cell_type": "code",
   "execution_count": 3,
   "metadata": {
    "id": "TEoMfRV68VlZ"
   },
   "outputs": [
    {
     "name": "stdout",
     "output_type": "stream",
     "text": [
      "Mean: 14.375\n",
      "Median: 7.0\n",
      "Standard deviation: 16.936923421920522\n",
      "Sum: [ 77  95  88 109]\n",
      "Maximum value: 47\n",
      "Index: (array([3]), array([1]))\n"
     ]
    }
   ],
   "source": [
    "mean = np.mean(arr2)\n",
    "median = np.median(arr2)\n",
    "std = np.std(arr2)\n",
    "print(\"Mean:\", mean)\n",
    "print(\"Median:\", median)\n",
    "print(\"Standard deviation:\", std)\n",
    "\n",
    "sum = np.sum(arrx, axis=1)\n",
    "print(\"Sum:\", sum)\n",
    "\n",
    "max = np.max(arr2)\n",
    "index = np.where(arr2 == max)\n",
    "\n",
    "print(\"Maximum value:\", max)\n",
    "print(\"Index:\", index)\n"
   ]
  },
  {
   "cell_type": "markdown",
   "metadata": {
    "id": "T_X0kP3I9eWi"
   },
   "source": [
    "###  Task 4: Advanced Analysis on Large Arrays"
   ]
  },
  {
   "cell_type": "markdown",
   "metadata": {
    "id": "B6uTdro89kE7"
   },
   "source": [
    "- Create a (10, 10) array containing random floating-point numbers between 0 and 1.\n",
    "- Find the minimum value along each column.\n",
    "- Find the indices of the top 5 largest values in the entire array."
   ]
  },
  {
   "cell_type": "code",
   "execution_count": 210,
   "metadata": {
    "id": "UwJw1MIn9ovK"
   },
   "outputs": [
    {
     "name": "stdout",
     "output_type": "stream",
     "text": [
      "[[0.05823305 0.93798064 0.15560409 0.71853716 0.19210662 0.16473546\n",
      "  0.61019012 0.90141134 0.64851219 0.08756265]\n",
      " [0.97031989 0.25829351 0.50690829 0.4201259  0.03927162 0.88122053\n",
      "  0.70214303 0.27169847 0.25025305 0.4435294 ]\n",
      " [0.74074587 0.94177052 0.09941486 0.71257586 0.01822893 0.78147393\n",
      "  0.11800988 0.06120947 0.49095967 0.89406646]\n",
      " [0.2598657  0.82331883 0.17018624 0.73475085 0.6662826  0.56333255\n",
      "  0.72447311 0.67486601 0.61734897 0.20510486]\n",
      " [0.40907753 0.8461631  0.33098283 0.48211288 0.73733738 0.39589804\n",
      "  0.31355865 0.41919929 0.82221261 0.19286884]\n",
      " [0.7991932  0.5642668  0.55709323 0.18064806 0.39452327 0.4286943\n",
      "  0.31667998 0.23976833 0.40174396 0.5491871 ]\n",
      " [0.421894   0.1698579  0.36190403 0.98372357 0.76398785 0.39133185\n",
      "  0.86989464 0.95178394 0.37765804 0.26778498]\n",
      " [0.72815544 0.0835364  0.19940981 0.93225103 0.12263334 0.54579008\n",
      "  0.28554342 0.87803393 0.65916658 0.59719311]\n",
      " [0.95216444 0.81194725 0.72074796 0.68747255 0.03789156 0.38106502\n",
      "  0.65002584 0.61852203 0.31727716 0.90010503]\n",
      " [0.72311448 0.72754084 0.46273418 0.67237018 0.43596203 0.15943547\n",
      "  0.16633711 0.23601144 0.57043337 0.31533101]]\n",
      "Minimum value: [0.05823305 0.0835364  0.09941486 0.18064806 0.01822893 0.15943547\n",
      " 0.11800988 0.06120947 0.25025305 0.08756265]\n",
      "Indices: (array([2, 6, 8, 1, 6]), array([1, 7, 0, 0, 3]))\n"
     ]
    }
   ],
   "source": [
    "from numpy import random\n",
    "\n",
    "arr = random.rand(10, 10)\n",
    "print(arr)\n",
    "\n",
    "min = np.min(arr, axis=0)\n",
    "print(\"Minimum value:\", min)\n",
    "\n",
    "indices = np.unravel_index(np.argsort(arr, axis=None)[-5:], arr.shape)\n",
    "print(\"Indices:\", indices)"
   ]
  }
 ],
 "metadata": {
  "colab": {
   "collapsed_sections": [
    "JDa9MTb2wXPi",
    "ABs-32sKwOcg"
   ],
   "provenance": []
  },
  "kernelspec": {
   "display_name": "Python 3",
   "name": "python3"
  },
  "language_info": {
   "codemirror_mode": {
    "name": "ipython",
    "version": 3
   },
   "file_extension": ".py",
   "mimetype": "text/x-python",
   "name": "python",
   "nbconvert_exporter": "python",
   "pygments_lexer": "ipython3",
   "version": "3.10.0"
  }
 },
 "nbformat": 4,
 "nbformat_minor": 0
}
